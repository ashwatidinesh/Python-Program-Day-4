{
 "cells": [
  {
   "cell_type": "markdown",
   "metadata": {},
   "source": [
    "# Assignment 3"
   ]
  },
  {
   "cell_type": "markdown",
   "metadata": {},
   "source": [
    "Question 1"
   ]
  },
  {
   "cell_type": "markdown",
   "metadata": {},
   "source": [
    "Write down a program in python for opening a file and write \"I LOVE LETSUPGRADE\" and close it, read it\n",
    "back again and then append data to it and close it."
   ]
  },
  {
   "cell_type": "code",
   "execution_count": 2,
   "metadata": {},
   "outputs": [],
   "source": [
    "new = open(\"Hey.txt\",\"w\")\n",
    "new.write(\"I LOVE LETSUPGRADE!!!\")\n",
    "new.close()"
   ]
  },
  {
   "cell_type": "code",
   "execution_count": 3,
   "metadata": {},
   "outputs": [
    {
     "name": "stdout",
     "output_type": "stream",
     "text": [
      "I LOVE LETSUPGRADE!!!\n"
     ]
    }
   ],
   "source": [
    "new= open(\"Hey.txt\",\"r\")\n",
    "contents = new.read()\n",
    "print(contents)\n",
    "new.close()"
   ]
  },
  {
   "cell_type": "code",
   "execution_count": 4,
   "metadata": {},
   "outputs": [],
   "source": [
    "new= open(\"Hey.txt\",\"a\")\n",
    "new.write(\"I CANNOT WAIT TO LEARN CODING!!\")\n",
    "new.close()"
   ]
  },
  {
   "cell_type": "code",
   "execution_count": 5,
   "metadata": {},
   "outputs": [
    {
     "name": "stdout",
     "output_type": "stream",
     "text": [
      "I LOVE LETSUPGRADE!!!I CANNOT WAIT TO LEARN CODING!!\n"
     ]
    }
   ],
   "source": [
    "new= open(\"Hey.txt\",\"r\")\n",
    "print(new.read())\n",
    "new.close()"
   ]
  },
  {
   "cell_type": "markdown",
   "metadata": {},
   "source": [
    "Question 2"
   ]
  },
  {
   "cell_type": "markdown",
   "metadata": {},
   "source": [
    "Write a function which can return a list of factors of any no. given in the argument."
   ]
  },
  {
   "cell_type": "code",
   "execution_count": 3,
   "metadata": {},
   "outputs": [
    {
     "name": "stdout",
     "output_type": "stream",
     "text": [
      "Please enter a number: 22\n",
      "factors of 22 are: [1, 2, 11, 22]\n"
     ]
    }
   ],
   "source": [
    "def getallfactors(n):\n",
    "    factors = []\n",
    "    for i in range(1 ,n+1):\n",
    "        if n%i == 0:\n",
    "            factors.append(i)\n",
    "    return factors\n",
    "\n",
    "num = int(input(\"Please enter a number: \"))\n",
    "list_of_factors = getallfactors(num)\n",
    "print(\"factors of {} are: {}\".format(num ,list_of_factors))\n",
    "    "
   ]
  },
  {
   "cell_type": "code",
   "execution_count": 1,
   "metadata": {},
   "outputs": [
    {
     "name": "stdout",
     "output_type": "stream",
     "text": [
      "Please enter a number: 567\n",
      "factors of 567 are: [1, 3, 7, 9, 21, 27, 63, 81, 189, 567]\n"
     ]
    }
   ],
   "source": [
    "def getallfactors(n):\n",
    "    factors = []\n",
    "    for i in range(1 ,n+1):\n",
    "        if n%i == 0:\n",
    "            factors.append(i)\n",
    "    return factors\n",
    "\n",
    "num = int(input(\"Please enter a number: \"))\n",
    "list_of_factors = getallfactors(num)\n",
    "print(\"factors of {} are: {}\".format(num ,list_of_factors))\n",
    "    "
   ]
  },
  {
   "cell_type": "code",
   "execution_count": null,
   "metadata": {},
   "outputs": [],
   "source": []
  }
 ],
 "metadata": {
  "kernelspec": {
   "display_name": "Python 3",
   "language": "python",
   "name": "python3"
  },
  "language_info": {
   "codemirror_mode": {
    "name": "ipython",
    "version": 3
   },
   "file_extension": ".py",
   "mimetype": "text/x-python",
   "name": "python",
   "nbconvert_exporter": "python",
   "pygments_lexer": "ipython3",
   "version": "3.8.5"
  }
 },
 "nbformat": 4,
 "nbformat_minor": 4
}
